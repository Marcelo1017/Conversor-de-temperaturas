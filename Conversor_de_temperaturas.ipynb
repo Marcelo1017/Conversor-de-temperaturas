{
  "nbformat": 4,
  "nbformat_minor": 0,
  "metadata": {
    "colab": {
      "provenance": [],
      "authorship_tag": "ABX9TyM6AGrdN1/ZlGMvG4i18gwy",
      "include_colab_link": true
    },
    "kernelspec": {
      "name": "python3",
      "display_name": "Python 3"
    },
    "language_info": {
      "name": "python"
    }
  },
  "cells": [
    {
      "cell_type": "markdown",
      "metadata": {
        "id": "view-in-github",
        "colab_type": "text"
      },
      "source": [
        "<a href=\"https://colab.research.google.com/github/Marcelo1017/Conversor-de-temperaturas/blob/main/Conversor_de_temperaturas.ipynb\" target=\"_parent\"><img src=\"https://colab.research.google.com/assets/colab-badge.svg\" alt=\"Open In Colab\"/></a>"
      ]
    },
    {
      "cell_type": "code",
      "execution_count": null,
      "metadata": {
        "id": "Z6x5xqAca1HH"
      },
      "outputs": [],
      "source": [
        "def celsius_to_fahrenheit(celsius):\n",
        "  return (celsius * 9/5) + 32\n",
        "\n",
        "def fahrenheit_to_celsius(fahrenheit):\n",
        "  return (fahrenheit - 32) * 5/9\n",
        "\n",
        "def fahrenheit_to_kelvin(fahrenheit):\n",
        "  return (fahrenheit - 32) * 5/9 + 273.15\n",
        "\n",
        "def kelvin_to_celsius(kelvin):\n",
        "  return kelvin - 273.15\n",
        "\n",
        "def kelvin_to_fahrenheit(kelvin):\n",
        "  return (kelvin - 273.15) * 9/5 + 32\n",
        "\n",
        "def celsius_to_kelvin(celsius):\n",
        "  return celsius + 273.15\n",
        "\n",
        "# pedir ao usuário a temperatura e a unidade de medida\n",
        "temp = float(input(\"Insira a temperatura: \"))\n",
        "unidade = input(\"Insira a unidade de medida (C, F ou K): \")\n",
        "\n",
        "# verificar qual é a unidade de medida e chamar a função de conversão correspondente\n",
        "if unidade == \"C\":\n",
        "  resultado = celsius_to_fahrenheit(temp)\n",
        "  resultado2 = celsius_to_kelvin(temp)\n",
        "  print(\"{} ºC é equivalente a {} ºF ou {} K\".format(temp, resultado, resultado2))\n",
        "elif unidade == \"F\":\n",
        "  resultado = fahrenheit_to_celsius(temp)\n",
        "  resultado2 = fahrenheit_to_kelvin(temp)\n",
        "  print(\"{} ºF é equivalente a {} ºC ou {} K\".format(temp, resultado, resultado2))\n",
        "elif unidade == \"K\":\n",
        "  resultado = kelvin_to_celsius(temp)\n",
        "  resultado2 = kelvin_to_fahrenheit(temp)\n",
        "  print(\"{} K é equivalente a {} ºC ou {} ºF\".format(temp, resultado, resultado2))\n",
        "else:\n",
        "  print(\"Unidade de medida inválida\")\n",
        "\n"
      ]
    }
  ]
}